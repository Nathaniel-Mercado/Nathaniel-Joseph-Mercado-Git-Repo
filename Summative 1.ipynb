{
 "cells": [
  {
   "cell_type": "code",
   "execution_count": 4,
   "id": "1da1b700-b176-4aee-ba3d-2bc623bd0972",
   "metadata": {},
   "outputs": [],
   "source": [
    "import json\n",
    "import pandas as pd\n",
    "import re\n",
    "from datetime import datetime\n",
    "\n",
    "#Converts json to a list\n",
    "with open('transaction-data-adhoc-analysis.json') as f:\n",
    "    data = json.load(f)\n",
    "transactionitems=[]\n",
    "product = []\n",
    "udata = pd.read_json('transaction-data-adhoc-analysis.json', orient='column')\n",
    "df = pd.DataFrame(udata)\n",
    "\n",
    "for index, row in df.iterrows(): # seperates the groups of purchases into rows \n",
    "    transaction = row['transaction_items']\n",
    "    date = row['transaction_date']\n",
    "    item = transaction.split(\";\") #makes a dictionary for each group of items\n",
    "    for i in range(0,len(item)): #splits each item bought from its group and adds a date component\n",
    "        itemtobeadded = item[i] +',' + date\n",
    "        transactionitems.append(itemtobeadded)   \n",
    "\n",
    "#splits purchases into columns by Brand, Name, and Quantity\n",
    "for v in range(0, len(transactionitems)):\n",
    "    fitem = transactionitems[v].split(',')\n",
    "    product.append(fitem)\n",
    "\n",
    "#creates new dataframe for brand name, product name, quantity, and date\n",
    "ff = pd.DataFrame(product,columns = [\"Brand Name\", \"Product Name\", \"Quantity\", \"Date\"])\n",
    "\n",
    "#iterates through every item in column Quantity and removes all elements that is not within 0-9\n",
    "for y in range(len(ff['Quantity'])):\n",
    "    ff.loc[y, 'Quantity'] = re.sub('[^0-9]','',(str(ff.loc[y, 'Quantity'])))\n",
    "\n",
    "#converts to int column 'quantity'\n",
    "ff[\"Quantity\"] = ff[\"Quantity\"].astype(int)\n",
    "\n",
    "#gets the month component of the date of each transaction\n",
    "def gmonth(Date):\n",
    "    datem = datetime.strptime(Date, \"%Y/%m/%d\")\n",
    "    return datem.month\n",
    "ff[\"Date\"] = ff[\"Date\"].apply(gmonth)"
   ]
  },
  {
   "cell_type": "code",
   "execution_count": 7,
   "id": "d6f75557-f4b0-4017-8ba9-780c487b65e3",
   "metadata": {},
   "outputs": [
    {
     "data": {
      "text/plain": [
       "1    1945026\n",
       "2    1997363\n",
       "3    1912589\n",
       "4    1972886\n",
       "5    1982836\n",
       "6    2011094\n",
       "Name: Orange Beans, dtype: int32"
      ]
     },
     "execution_count": 7,
     "metadata": {},
     "output_type": "execute_result"
    }
   ],
   "source": [
    "fdf = pd.DataFrame()\n",
    "\n",
    "#prices of each item\n",
    "prices = [1299,1500,150,799,1990,199,500]\n",
    "\n",
    "#return the quantity of each item per month\n",
    "for i in range(1,7):\n",
    "    month = ff.loc[ff[\"Date\"] == i]\n",
    "    month.groupby(['Product Name']).sum().squeeze().drop(\"Date\", axis= 1)\n",
    "    fdf[i] = month.groupby(['Product Name']).sum().squeeze().drop(\"Date\", axis= 1)\n",
    "\n",
    "#Quantity of each item per month\n",
    "ChicharonQ = fdf.iloc[0]\n",
    "VitaminsQ = fdf.iloc[1]\n",
    "WormsQ = fdf.iloc[2]\n",
    "KimchiQ = fdf.iloc[3]\n",
    "MilkQ = fdf.iloc[4]\n",
    "OrangeQ = fdf.iloc[5]\n",
    "VegetablesQ = fdf.iloc[6]\n",
    "\n",
    "#Multiplies each quantity to the price of each item\n",
    "Chicharon = fdf.iloc[0] * prices[0]\n",
    "Vitamins = fdf.iloc[1] * prices[1]\n",
    "Worms = fdf.iloc[2] * prices[2]\n",
    "Kimchi = fdf.iloc[3] * prices[3]\n",
    "Milk = fdf.iloc[4] * prices[4]\n",
    "Orange = fdf.iloc[5] * prices[5]\n",
    "Vegetables = fdf.iloc[6] * prices[6]\n",
    "\n",
    "\n",
    "Orange"
   ]
  },
  {
   "cell_type": "code",
   "execution_count": null,
   "id": "80c1a9f5-f9eb-41aa-bf1e-2230f1931580",
   "metadata": {},
   "outputs": [],
   "source": []
  },
  {
   "cell_type": "code",
   "execution_count": null,
   "id": "dbee3c57-6c5f-4edb-8be9-924128d7abef",
   "metadata": {},
   "outputs": [],
   "source": []
  },
  {
   "cell_type": "code",
   "execution_count": null,
   "id": "c3e08bca-d359-4349-bc25-d86d86d47f95",
   "metadata": {},
   "outputs": [],
   "source": []
  }
 ],
 "metadata": {
  "kernelspec": {
   "display_name": "Python 3 (ipykernel)",
   "language": "python",
   "name": "python3"
  },
  "language_info": {
   "codemirror_mode": {
    "name": "ipython",
    "version": 3
   },
   "file_extension": ".py",
   "mimetype": "text/x-python",
   "name": "python",
   "nbconvert_exporter": "python",
   "pygments_lexer": "ipython3",
   "version": "3.9.12"
  }
 },
 "nbformat": 4,
 "nbformat_minor": 5
}
